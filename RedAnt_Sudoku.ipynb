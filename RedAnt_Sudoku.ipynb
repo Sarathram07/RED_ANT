{
 "cells": [
  {
   "cell_type": "code",
   "execution_count": 8,
   "metadata": {
    "id": "i5jlt0HoJEQt"
   },
   "outputs": [],
   "source": [
    "import numpy as np"
   ]
  },
  {
   "cell_type": "code",
   "execution_count": 9,
   "metadata": {
    "id": "eMfNn2fobePy"
   },
   "outputs": [],
   "source": [
    "#Test Input matrix:\n",
    "\n",
    "grid = [[5,3,0,0,7,0,0,0,0],\n",
    "        [6,0,0,1,9,5,0,0,0],\n",
    "        [0,9,8,0,0,0,0,6,0],\n",
    "        [8,0,0,0,6,0,0,0,3],\n",
    "        [4,0,0,8,0,3,0,0,1],\n",
    "        [7,0,0,0,2,0,0,0,6],\n",
    "        [0,6,0,0,0,0,2,8,0],\n",
    "        [0,0,0,0,1,9,0,0,5],\n",
    "        [0,0,0,0,0,0,0,0,0]]"
   ]
  },
  {
   "cell_type": "code",
   "execution_count": 10,
   "metadata": {
    "id": "jMu1d-aQbeOP"
   },
   "outputs": [],
   "source": [
    "#Checking the possibilities of entries:\n",
    "\n",
    "def possible(row, column, number):\n",
    "    global grid\n",
    "    \n",
    "    for i in range(0,9):                      #check the number appearing in the given row\n",
    "        if grid[row][i] == number:\n",
    "            return False\n",
    "   \n",
    "    for i in range(0,9):                      #check the number appearing in the given column\n",
    "        if grid[i][column] == number:\n",
    "            return False\n",
    "    \n",
    "    x0 = (column // 3) * 3                    #check the number appearing in the given square\n",
    "    y0 = (row // 3) * 3\n",
    "    for i in range(0,3):\n",
    "        for j in range(0,3):\n",
    "            if grid[y0+i][x0+j] == number:\n",
    "                return False\n",
    "\n",
    "    return True"
   ]
  },
  {
   "cell_type": "code",
   "execution_count": 11,
   "metadata": {
    "colab": {
     "base_uri": "https://localhost:8080/"
    },
    "id": "gaiYzI7Hg01Z",
    "outputId": "5e32d6f8-9faa-47cf-cea4-1e9e2bbfb953"
   },
   "outputs": [
    {
     "data": {
      "text/plain": [
       "True"
      ]
     },
     "execution_count": 11,
     "metadata": {},
     "output_type": "execute_result"
    }
   ],
   "source": [
    "#Checking whether the board is valid or not?\n",
    "\n",
    "def isValidSudoku(grid):\n",
    "    for i in range(9):\n",
    "        row = {}\n",
    "        column = {}\n",
    "        block = {}\n",
    "        row_cube = 3 * (i//3)\n",
    "        column_cube = 3 * (i%3)\n",
    "        \n",
    "        for j in range(9):\n",
    "            if grid[i][j]!= 0 and grid[i][j] in row:\n",
    "                return False\n",
    "            row[grid[i][j]] = 1\n",
    "            if grid[j][i]!= 0 and grid[j][i] in column:\n",
    "                return False\n",
    "        column[grid[j][i]] = 1\n",
    "        rc= row_cube+j//3\n",
    "        cc = column_cube + j%3\n",
    "        \n",
    "        if grid[rc][cc] in block and grid[rc][cc] != 0:\n",
    "              return False\n",
    "        \n",
    "        block[grid[rc][cc]]=1\n",
    "    return True\n",
    "\n",
    "isValidSudoku(grid)         #If output is true -board is valid, nor it is not valid"
   ]
  },
  {
   "cell_type": "code",
   "execution_count": 12,
   "metadata": {
    "colab": {
     "base_uri": "https://localhost:8080/"
    },
    "id": "jNZeJc2ZbmBG",
    "outputId": "9ae62452-2519-4f6d-8a95-a2da4f8f6d08"
   },
   "outputs": [
    {
     "name": "stdout",
     "output_type": "stream",
     "text": [
      "Solution \n",
      " [[5 3 4 6 7 8 1 9 2]\n",
      " [6 7 2 1 9 5 3 4 8]\n",
      " [1 9 8 3 4 2 5 6 7]\n",
      " [8 5 9 7 6 1 4 2 3]\n",
      " [4 2 6 8 5 3 9 7 1]\n",
      " [7 1 3 9 2 4 8 5 6]\n",
      " [9 6 1 5 3 7 2 8 4]\n",
      " [2 8 7 4 1 9 6 3 5]\n",
      " [3 4 5 2 8 6 7 1 9]]\n",
      "More possible solutions\n",
      "\n",
      "Solution \n",
      " [[5 3 4 6 7 8 9 1 2]\n",
      " [6 7 2 1 9 5 3 4 8]\n",
      " [1 9 8 3 4 2 5 6 7]\n",
      " [8 5 9 7 6 1 4 2 3]\n",
      " [4 2 6 8 5 3 7 9 1]\n",
      " [7 1 3 9 2 4 8 5 6]\n",
      " [9 6 1 5 3 7 2 8 4]\n",
      " [2 8 7 4 1 9 6 3 5]\n",
      " [3 4 5 2 8 6 1 7 9]]\n",
      "More possible solutions\n",
      "\n"
     ]
    }
   ],
   "source": [
    "def solve():\n",
    "    global grid\n",
    "    \n",
    "    if isValidSudoku(grid) == False:\n",
    "        print('No Solution because Grid is Invalid !')\n",
    "    \n",
    "    else:\n",
    "        for row in range(0,9):\n",
    "            for column in range(0,9):\n",
    "                if grid[row][column] == 0:\n",
    "                    for number in range(1,10):\n",
    "                        if possible(row, column, number):\n",
    "                            grid[row][column] = number\n",
    "                            solve()\n",
    "                            grid[row][column] = 0\n",
    "                    return\n",
    "                \n",
    "        print('Solution \\n', np.matrix(grid))\n",
    "        input('More possible solutions\\n')\n",
    "\n",
    "solve()"
   ]
  },
  {
   "cell_type": "code",
   "execution_count": null,
   "metadata": {},
   "outputs": [],
   "source": []
  }
 ],
 "metadata": {
  "colab": {
   "name": "Untitled21.ipynb",
   "provenance": []
  },
  "kernelspec": {
   "display_name": "Python 3",
   "language": "python",
   "name": "python3"
  },
  "language_info": {
   "codemirror_mode": {
    "name": "ipython",
    "version": 3
   },
   "file_extension": ".py",
   "mimetype": "text/x-python",
   "name": "python",
   "nbconvert_exporter": "python",
   "pygments_lexer": "ipython3",
   "version": "3.8.5"
  }
 },
 "nbformat": 4,
 "nbformat_minor": 1
}
